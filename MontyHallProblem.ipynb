{
 "cells": [
  {
   "cell_type": "markdown",
   "metadata": {},
   "source": [
    "# The Monty Hall Problem\n",
    "\n",
    "## 1. Problem Statement\n",
    "You are a contestant on a game show and presented with three doors:\n",
    "\n",
    "1. **One** door hides a car (the prize you want).  \n",
    "2. **Two** doors each hide a goat.\n",
    "\n",
    "The steps are:\n",
    "\n",
    "1. You pick one door (e.g., Door 1).\n",
    "2. The host—who knows what’s behind each door—opens one of the **other** two doors, always revealing a goat.\n",
    "3. You are then offered a choice:\n",
    "   - **Stay** with your original door.\n",
    "   - **Switch** to the other unopened door.\n",
    "\n",
    "Should you stay or switch to maximize your chances of winning the car?"
   ]
  },
  {
   "cell_type": "markdown",
   "metadata": {},
   "source": [
    "If we randomly choose the door then we should be winning about 33.33 % of the time. Let's simulate this and see. "
   ]
  },
  {
   "cell_type": "code",
   "execution_count": 2,
   "metadata": {},
   "outputs": [],
   "source": [
    "import random"
   ]
  },
  {
   "cell_type": "code",
   "execution_count": 3,
   "metadata": {},
   "outputs": [
    {
     "name": "stdout",
     "output_type": "stream",
     "text": [
      "Final running average win rate: 33.67%\n"
     ]
    }
   ],
   "source": [
    "running_avg = 0.0\n",
    "\n",
    "for i in range(10000):\n",
    "    win = 0\n",
    "    if random.randint(1, 3) == random.randint(1, 3) : \n",
    "        win = 1\n",
    "    running_avg = running_avg + (win - running_avg) / (i+1)\n",
    "\n",
    "print(f\"Final running average win rate: {running_avg:.2%}\")"
   ]
  },
  {
   "cell_type": "markdown",
   "metadata": {},
   "source": [
    "So we can see that the probability of us winning on randomly guessing the door aligns with our calculated probability."
   ]
  },
  {
   "cell_type": "markdown",
   "metadata": {},
   "source": [
    "# Monty’s Hint\n",
    "\n",
    "> “I will always open one of the other doors you didn’t pick—and it will always hide a goat.”\n",
    "\n",
    "---\n",
    "\n",
    "## Why This Matters\n",
    "\n",
    "- **Informed choice**: Monty knows where the car is, so he never reveals it.  \n",
    "- **Probability shift**: By opening a goat door, Monty transfers the combined 2/3 chance you initially picked a goat onto the one remaining unopened door.\n",
    "\n",
    "---\n",
    "\n",
    "## How to Use the Hint\n",
    "\n",
    "1. **Initial pick** has a 1/3 chance of being correct.  \n",
    "2. **Monty’s reveal** tells you nothing new if you picked the car (1/3), but if you picked a goat (2/3), he had no choice which goat to show.  \n",
    "3. **Switch**: Given this, swapping to the other unopened door wins with probability 2/3.\n",
    "\n",
    "---\n",
    "\n",
    "## Quick Tip\n",
    "\n",
    "- Whenever Monty opens a goat door, **always switch**—that extra information doubles your odds of winning!"
   ]
  },
  {
   "cell_type": "code",
   "execution_count": 30,
   "metadata": {},
   "outputs": [
    {
     "name": "stdout",
     "output_type": "stream",
     "text": [
      "Stay   win rate: 33.37%\n",
      "Switch win rate: 66.63%\n"
     ]
    }
   ],
   "source": [
    "n_trials   = 100000\n",
    "stay_wins   = 0\n",
    "switch_wins = 0\n",
    "\n",
    "doors = [1, 2, 3]\n",
    "\n",
    "for _ in range(n_trials):\n",
    "    car_door = random.randint(1, 3)\n",
    "    choice   = random.randint(1, 3)\n",
    "\n",
    "    goat_doors = []\n",
    "    for d in doors:\n",
    "        if d != choice and d != car_door:\n",
    "            goat_doors.append(d)\n",
    "    monty_opens = random.choice(goat_doors)\n",
    "\n",
    "    if choice == car_door:\n",
    "        stay_wins += 1\n",
    "\n",
    "    for d in doors:\n",
    "        if d != choice and d != monty_opens:\n",
    "            switched_choice = d\n",
    "            break\n",
    "    if switched_choice == car_door:\n",
    "        switch_wins += 1\n",
    "\n",
    "stay_rate   = stay_wins   / n_trials\n",
    "switch_rate = switch_wins / n_trials\n",
    "\n",
    "print(f\"Stay   win rate: {stay_rate:.2%}\")\n",
    "print(f\"Switch win rate: {switch_rate:.2%}\")"
   ]
  },
  {
   "cell_type": "markdown",
   "metadata": {},
   "source": [
    "## Observations\n",
    "\n",
    "1. **Stay vs. Switch Win Rates**  \n",
    "   - Staying with the original door yields a win rate of approximately **33.3%**.  \n",
    "   - Switching after Monty reveals a goat yields a win rate of approximately **66.7%**.  \n",
    "   - This 2:1 advantage for switching is exactly what the probability analysis predicts.\n",
    "\n",
    "2. **Random-Guess Baseline**  \n",
    "   - A strategy that flips a fair coin to decide “stay” vs. “switch” ends up with a **50%** win rate.  \n",
    "   - This lies exactly halfway between always staying (33.3%) and always switching (66.7%).\n",
    "\n",
    "3. **Running Average Convergence**  \n",
    "   - As the number of trials increases, the running (cumulative) average of wins converges toward the true probabilities (33.3% for stay, 66.7% for switch).  \n",
    "   - Early in the simulation (few trials) the running average wiggles widely; by around ~10 000 trials it stabilizes within a few percentage points of the theoretical value.\n",
    "\n",
    "4. **Law of Large Numbers in Action**  \n",
    "   - The simulations illustrate the Law of Large Numbers: more independent trials → sample mean → true mean.  \n",
    "   - Variance of the estimate shrinks as \\(1/\\sqrt{n}\\), so doubling the number of trials roughly halves the typical error.\n",
    "\n",
    "5. **Implementation Details Matter**  \n",
    "   - Consistent door labels (e.g. 0–2 or 1–3) prevent logic bugs.  \n",
    "   - Using a running average avoids storing all outcomes in memory and provides immediate feedback on convergence.\n",
    "\n",
    "6. **Practical Takeaway**  \n",
    "   - In a real Monty Hall scenario—or any analogous “switch-after-information” game—you should **always switch** to double your chances of success.  \n",
    "   - Random guessing (coin-flip) is strictly worse than the informed switch strategy.z\n"
   ]
  },
  {
   "cell_type": "markdown",
   "metadata": {},
   "source": []
  }
 ],
 "metadata": {
  "kernelspec": {
   "display_name": "Python 3",
   "language": "python",
   "name": "python3"
  },
  "language_info": {
   "codemirror_mode": {
    "name": "ipython",
    "version": 3
   },
   "file_extension": ".py",
   "mimetype": "text/x-python",
   "name": "python",
   "nbconvert_exporter": "python",
   "pygments_lexer": "ipython3",
   "version": "3.9.6"
  }
 },
 "nbformat": 4,
 "nbformat_minor": 2
}
